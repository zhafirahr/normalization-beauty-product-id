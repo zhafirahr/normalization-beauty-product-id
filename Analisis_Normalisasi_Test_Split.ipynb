{
  "nbformat": 4,
  "nbformat_minor": 0,
  "metadata": {
    "colab": {
      "name": "Analisis Normalisasi_Test Split.ipynb",
      "provenance": [],
      "collapsed_sections": []
    },
    "kernelspec": {
      "name": "python3",
      "display_name": "Python 3"
    },
    "language_info": {
      "name": "python"
    }
  },
  "cells": [
    {
      "cell_type": "code",
      "metadata": {
        "id": "tqqFY4g7LphT"
      },
      "source": [
        "import pandas as pd \n",
        "from sklearn.model_selection import train_test_split"
      ],
      "execution_count": null,
      "outputs": []
    },
    {
      "cell_type": "code",
      "metadata": {
        "colab": {
          "base_uri": "https://localhost:8080/",
          "height": 565
        },
        "id": "km47RVcOFqIZ",
        "outputId": "719cb4ee-3042-4c28-a67a-41fc44120c26"
      },
      "source": [
        "data=pd.read_json('top10cat_balanced.json',lines=True)\n",
        "data.head()"
      ],
      "execution_count": null,
      "outputs": [
        {
          "output_type": "execute_result",
          "data": {
            "text/html": [
              "\n",
              "  <div id=\"df-a71e0f70-0176-4d98-a06f-bddb56f8b42c\">\n",
              "    <div class=\"colab-df-container\">\n",
              "      <div>\n",
              "<style scoped>\n",
              "    .dataframe tbody tr th:only-of-type {\n",
              "        vertical-align: middle;\n",
              "    }\n",
              "\n",
              "    .dataframe tbody tr th {\n",
              "        vertical-align: top;\n",
              "    }\n",
              "\n",
              "    .dataframe thead th {\n",
              "        text-align: right;\n",
              "    }\n",
              "</style>\n",
              "<table border=\"1\" class=\"dataframe\">\n",
              "  <thead>\n",
              "    <tr style=\"text-align: right;\">\n",
              "      <th></th>\n",
              "      <th>product_brand</th>\n",
              "      <th>product_category</th>\n",
              "      <th>product_id</th>\n",
              "      <th>product_name</th>\n",
              "      <th>product_type</th>\n",
              "      <th>review_date</th>\n",
              "      <th>review_id</th>\n",
              "      <th>review_packaging</th>\n",
              "      <th>review_rating</th>\n",
              "      <th>review_rebuy</th>\n",
              "      <th>review_text</th>\n",
              "      <th>review_valueformoney</th>\n",
              "      <th>user_age</th>\n",
              "      <th>user_id</th>\n",
              "      <th>review_text_length</th>\n",
              "    </tr>\n",
              "  </thead>\n",
              "  <tbody>\n",
              "    <tr>\n",
              "      <th>0</th>\n",
              "      <td>Tom Ford</td>\n",
              "      <td>Lipstick</td>\n",
              "      <td>73</td>\n",
              "      <td>Lip Color</td>\n",
              "      <td>Indian Rose</td>\n",
              "      <td>1380654546000</td>\n",
              "      <td>129</td>\n",
              "      <td>4.0</td>\n",
              "      <td>5</td>\n",
              "      <td>yes</td>\n",
              "      <td>selalu perlu pinkish nude lipstick. saat tahu ...</td>\n",
              "      <td>expensive</td>\n",
              "      <td>43</td>\n",
              "      <td>46844</td>\n",
              "      <td>419</td>\n",
              "    </tr>\n",
              "    <tr>\n",
              "      <th>1</th>\n",
              "      <td>Urban Decay</td>\n",
              "      <td>Lipstick</td>\n",
              "      <td>114</td>\n",
              "      <td>Revolution Lipstick</td>\n",
              "      <td>Catfight</td>\n",
              "      <td>1380928775000</td>\n",
              "      <td>202</td>\n",
              "      <td>5.0</td>\n",
              "      <td>5</td>\n",
              "      <td>yes</td>\n",
              "      <td>i tried out the sample size in the shade catfi...</td>\n",
              "      <td>cheap</td>\n",
              "      <td>28</td>\n",
              "      <td>31992</td>\n",
              "      <td>520</td>\n",
              "    </tr>\n",
              "    <tr>\n",
              "      <th>2</th>\n",
              "      <td>theBalm</td>\n",
              "      <td>Lipstick</td>\n",
              "      <td>156</td>\n",
              "      <td>Girls Lipstick</td>\n",
              "      <td></td>\n",
              "      <td>1381175013000</td>\n",
              "      <td>283</td>\n",
              "      <td>4.0</td>\n",
              "      <td>5</td>\n",
              "      <td>yes</td>\n",
              "      <td>i love this lisptick! i have 2 shades from thi...</td>\n",
              "      <td>just right</td>\n",
              "      <td>22</td>\n",
              "      <td>42092</td>\n",
              "      <td>491</td>\n",
              "    </tr>\n",
              "    <tr>\n",
              "      <th>3</th>\n",
              "      <td>Revlon</td>\n",
              "      <td>Lipstick</td>\n",
              "      <td>168</td>\n",
              "      <td>ColorStay Ultimate Suede Lipstick</td>\n",
              "      <td></td>\n",
              "      <td>1381271960000</td>\n",
              "      <td>306</td>\n",
              "      <td>4.0</td>\n",
              "      <td>5</td>\n",
              "      <td>yes</td>\n",
              "      <td>aku tipe yang gak pernah bisa pakai lipstick k...</td>\n",
              "      <td>just right</td>\n",
              "      <td>25</td>\n",
              "      <td>41682</td>\n",
              "      <td>1259</td>\n",
              "    </tr>\n",
              "    <tr>\n",
              "      <th>4</th>\n",
              "      <td>NYX</td>\n",
              "      <td>Lipstick</td>\n",
              "      <td>1257</td>\n",
              "      <td>Soft Matte Lip Cream</td>\n",
              "      <td>Antwerp</td>\n",
              "      <td>1381404403000</td>\n",
              "      <td>346</td>\n",
              "      <td>5.0</td>\n",
              "      <td>5</td>\n",
              "      <td>yes</td>\n",
              "      <td>yang kusuka: - murah-meriah! gak perlu rogoh k...</td>\n",
              "      <td>cheap</td>\n",
              "      <td>37</td>\n",
              "      <td>31930</td>\n",
              "      <td>263</td>\n",
              "    </tr>\n",
              "  </tbody>\n",
              "</table>\n",
              "</div>\n",
              "      <button class=\"colab-df-convert\" onclick=\"convertToInteractive('df-a71e0f70-0176-4d98-a06f-bddb56f8b42c')\"\n",
              "              title=\"Convert this dataframe to an interactive table.\"\n",
              "              style=\"display:none;\">\n",
              "        \n",
              "  <svg xmlns=\"http://www.w3.org/2000/svg\" height=\"24px\"viewBox=\"0 0 24 24\"\n",
              "       width=\"24px\">\n",
              "    <path d=\"M0 0h24v24H0V0z\" fill=\"none\"/>\n",
              "    <path d=\"M18.56 5.44l.94 2.06.94-2.06 2.06-.94-2.06-.94-.94-2.06-.94 2.06-2.06.94zm-11 1L8.5 8.5l.94-2.06 2.06-.94-2.06-.94L8.5 2.5l-.94 2.06-2.06.94zm10 10l.94 2.06.94-2.06 2.06-.94-2.06-.94-.94-2.06-.94 2.06-2.06.94z\"/><path d=\"M17.41 7.96l-1.37-1.37c-.4-.4-.92-.59-1.43-.59-.52 0-1.04.2-1.43.59L10.3 9.45l-7.72 7.72c-.78.78-.78 2.05 0 2.83L4 21.41c.39.39.9.59 1.41.59.51 0 1.02-.2 1.41-.59l7.78-7.78 2.81-2.81c.8-.78.8-2.07 0-2.86zM5.41 20L4 18.59l7.72-7.72 1.47 1.35L5.41 20z\"/>\n",
              "  </svg>\n",
              "      </button>\n",
              "      \n",
              "  <style>\n",
              "    .colab-df-container {\n",
              "      display:flex;\n",
              "      flex-wrap:wrap;\n",
              "      gap: 12px;\n",
              "    }\n",
              "\n",
              "    .colab-df-convert {\n",
              "      background-color: #E8F0FE;\n",
              "      border: none;\n",
              "      border-radius: 50%;\n",
              "      cursor: pointer;\n",
              "      display: none;\n",
              "      fill: #1967D2;\n",
              "      height: 32px;\n",
              "      padding: 0 0 0 0;\n",
              "      width: 32px;\n",
              "    }\n",
              "\n",
              "    .colab-df-convert:hover {\n",
              "      background-color: #E2EBFA;\n",
              "      box-shadow: 0px 1px 2px rgba(60, 64, 67, 0.3), 0px 1px 3px 1px rgba(60, 64, 67, 0.15);\n",
              "      fill: #174EA6;\n",
              "    }\n",
              "\n",
              "    [theme=dark] .colab-df-convert {\n",
              "      background-color: #3B4455;\n",
              "      fill: #D2E3FC;\n",
              "    }\n",
              "\n",
              "    [theme=dark] .colab-df-convert:hover {\n",
              "      background-color: #434B5C;\n",
              "      box-shadow: 0px 1px 3px 1px rgba(0, 0, 0, 0.15);\n",
              "      filter: drop-shadow(0px 1px 2px rgba(0, 0, 0, 0.3));\n",
              "      fill: #FFFFFF;\n",
              "    }\n",
              "  </style>\n",
              "\n",
              "      <script>\n",
              "        const buttonEl =\n",
              "          document.querySelector('#df-a71e0f70-0176-4d98-a06f-bddb56f8b42c button.colab-df-convert');\n",
              "        buttonEl.style.display =\n",
              "          google.colab.kernel.accessAllowed ? 'block' : 'none';\n",
              "\n",
              "        async function convertToInteractive(key) {\n",
              "          const element = document.querySelector('#df-a71e0f70-0176-4d98-a06f-bddb56f8b42c');\n",
              "          const dataTable =\n",
              "            await google.colab.kernel.invokeFunction('convertToInteractive',\n",
              "                                                     [key], {});\n",
              "          if (!dataTable) return;\n",
              "\n",
              "          const docLinkHtml = 'Like what you see? Visit the ' +\n",
              "            '<a target=\"_blank\" href=https://colab.research.google.com/notebooks/data_table.ipynb>data table notebook</a>'\n",
              "            + ' to learn more about interactive tables.';\n",
              "          element.innerHTML = '';\n",
              "          dataTable['output_type'] = 'display_data';\n",
              "          await google.colab.output.renderOutput(dataTable, element);\n",
              "          const docLink = document.createElement('div');\n",
              "          docLink.innerHTML = docLinkHtml;\n",
              "          element.appendChild(docLink);\n",
              "        }\n",
              "      </script>\n",
              "    </div>\n",
              "  </div>\n",
              "  "
            ],
            "text/plain": [
              "  product_brand product_category  ...  user_id review_text_length\n",
              "0      Tom Ford         Lipstick  ...    46844                419\n",
              "1   Urban Decay         Lipstick  ...    31992                520\n",
              "2       theBalm         Lipstick  ...    42092                491\n",
              "3        Revlon         Lipstick  ...    41682               1259\n",
              "4           NYX         Lipstick  ...    31930                263\n",
              "\n",
              "[5 rows x 15 columns]"
            ]
          },
          "metadata": {},
          "execution_count": 2
        }
      ]
    },
    {
      "cell_type": "code",
      "metadata": {
        "colab": {
          "base_uri": "https://localhost:8080/"
        },
        "id": "v2PdTJ0ODV4z",
        "outputId": "87266505-38de-44e5-974c-63a7ccfc9b8d"
      },
      "source": [
        "data.info()"
      ],
      "execution_count": null,
      "outputs": [
        {
          "output_type": "stream",
          "name": "stdout",
          "text": [
            "<class 'pandas.core.frame.DataFrame'>\n",
            "RangeIndex: 15000 entries, 0 to 14999\n",
            "Data columns (total 15 columns):\n",
            " #   Column                Non-Null Count  Dtype  \n",
            "---  ------                --------------  -----  \n",
            " 0   product_brand         14978 non-null  object \n",
            " 1   product_category      15000 non-null  object \n",
            " 2   product_id            15000 non-null  int64  \n",
            " 3   product_name          14988 non-null  object \n",
            " 4   product_type          14988 non-null  object \n",
            " 5   review_date           15000 non-null  int64  \n",
            " 6   review_id             15000 non-null  int64  \n",
            " 7   review_packaging      15000 non-null  float64\n",
            " 8   review_rating         15000 non-null  int64  \n",
            " 9   review_rebuy          15000 non-null  object \n",
            " 10  review_text           15000 non-null  object \n",
            " 11  review_valueformoney  15000 non-null  object \n",
            " 12  user_age              15000 non-null  int64  \n",
            " 13  user_id               15000 non-null  int64  \n",
            " 14  review_text_length    15000 non-null  int64  \n",
            "dtypes: float64(1), int64(7), object(7)\n",
            "memory usage: 1.7+ MB\n"
          ]
        }
      ]
    },
    {
      "cell_type": "code",
      "metadata": {
        "colab": {
          "base_uri": "https://localhost:8080/"
        },
        "id": "Oj7-53B4DdPa",
        "outputId": "c54cbcf7-0426-49f0-954e-e65cc51255b9"
      },
      "source": [
        "data.review_rating.value_counts()"
      ],
      "execution_count": null,
      "outputs": [
        {
          "output_type": "execute_result",
          "data": {
            "text/plain": [
              "4    5400\n",
              "5    5100\n",
              "3    2700\n",
              "2    1350\n",
              "1     450\n",
              "Name: review_rating, dtype: int64"
            ]
          },
          "metadata": {},
          "execution_count": 4
        }
      ]
    },
    {
      "cell_type": "code",
      "metadata": {
        "id": "teGaeRrWGDrt"
      },
      "source": [
        "x_train,x_test, y_train, y_test = train_test_split(data['review_text'],data['review_rating'], test_size=0.3, random_state=1, stratify=data['review_rating'])"
      ],
      "execution_count": null,
      "outputs": []
    },
    {
      "cell_type": "code",
      "metadata": {
        "id": "8NDUml_sNE_i"
      },
      "source": [
        "dataset_baru = pd.DataFrame({'review_text': x_test,\n",
        "                             'review_rating': y_test})"
      ],
      "execution_count": null,
      "outputs": []
    },
    {
      "cell_type": "code",
      "metadata": {
        "id": "9JpTFo87ZtES"
      },
      "source": [
        "data1 = dataset_baru[dataset_baru['review_rating'] == 1]\n",
        "data2 = dataset_baru[dataset_baru['review_rating'] == 2]\n",
        "data3 = dataset_baru[dataset_baru['review_rating'] == 3]\n",
        "data4 = dataset_baru[dataset_baru['review_rating'] == 4]\n",
        "data5 = dataset_baru[dataset_baru['review_rating'] == 5]"
      ],
      "execution_count": null,
      "outputs": []
    },
    {
      "cell_type": "code",
      "metadata": {
        "id": "876jd_HEZ0Sn"
      },
      "source": [
        "Combined = [data5,data4,data3,data2,data1]\n",
        "Together = pd.concat(Combined)"
      ],
      "execution_count": null,
      "outputs": []
    },
    {
      "cell_type": "code",
      "metadata": {
        "id": "IXv6HM4MaLmE"
      },
      "source": [
        "Together.to_csv('review_rating.csv',index=False)"
      ],
      "execution_count": null,
      "outputs": []
    },
    {
      "cell_type": "code",
      "metadata": {
        "id": "9KMyrZlAjiwf"
      },
      "source": [
        "dataset_baru1 = pd.DataFrame({'review_text': x_train,\n",
        "                             'review_rating': y_train})"
      ],
      "execution_count": null,
      "outputs": []
    },
    {
      "cell_type": "code",
      "metadata": {
        "id": "RAOkzZSzjts3"
      },
      "source": [
        "data1_1 = dataset_baru1[dataset_baru1['review_rating'] == 1]\n",
        "data1_2 = dataset_baru1[dataset_baru1['review_rating'] == 2]\n",
        "data1_3 = dataset_baru1[dataset_baru1['review_rating'] == 3]\n",
        "data1_4 = dataset_baru1[dataset_baru1['review_rating'] == 4]\n",
        "data1_5 = dataset_baru1[dataset_baru1['review_rating'] == 5]"
      ],
      "execution_count": null,
      "outputs": []
    },
    {
      "cell_type": "code",
      "metadata": {
        "id": "ho0dmxOdj142"
      },
      "source": [
        "Combined1=[data1_5,data1_4,data1_3,data1_2,data1_1]\n",
        "Together1=pd.concat(Combined1)"
      ],
      "execution_count": null,
      "outputs": []
    },
    {
      "cell_type": "code",
      "metadata": {
        "id": "yBXupnFykGC7"
      },
      "source": [
        "Together1.to_csv('review_rating_train.csv',index=False)"
      ],
      "execution_count": null,
      "outputs": []
    },
    {
      "cell_type": "code",
      "source": [
        "#Combined2=[data1_5,data5,data1_4,data4,data1_3,data3,data1_2,data2,data1_1,data1]\n",
        "#Together2=pd.concat(Combined2)\n",
        "#Together2.to_csv('review_rating_all.csv',index=False)"
      ],
      "metadata": {
        "id": "21oRwHreHWKF"
      },
      "execution_count": null,
      "outputs": []
    }
  ]
}