{
  "nbformat": 4,
  "nbformat_minor": 0,
  "metadata": {
    "colab": {
      "name": "Analisis Normalisasi_main.ipynb",
      "provenance": [],
      "collapsed_sections": []
    },
    "kernelspec": {
      "display_name": "Python 3",
      "language": "python",
      "name": "python3"
    },
    "language_info": {
      "codemirror_mode": {
        "name": "ipython",
        "version": 3
      },
      "file_extension": ".py",
      "mimetype": "text/x-python",
      "name": "python",
      "nbconvert_exporter": "python",
      "pygments_lexer": "ipython3",
      "version": "3.7.6"
    }
  },
  "cells": [
    {
      "cell_type": "code",
      "metadata": {
        "colab": {
          "base_uri": "https://localhost:8080/"
        },
        "id": "ptzhSo7KHUmd",
        "outputId": "524c8b99-e43c-42d6-92b3-c77d2ad73245"
      },
      "source": [
        "import nltk\n",
        "nltk.download('punkt')"
      ],
      "execution_count": 76,
      "outputs": [
        {
          "output_type": "stream",
          "name": "stdout",
          "text": [
            "[nltk_data] Downloading package punkt to /root/nltk_data...\n",
            "[nltk_data]   Package punkt is already up-to-date!\n"
          ]
        },
        {
          "output_type": "execute_result",
          "data": {
            "text/plain": [
              "True"
            ]
          },
          "metadata": {},
          "execution_count": 76
        }
      ]
    },
    {
      "cell_type": "code",
      "metadata": {
        "id": "-qi7qKFTnjJH"
      },
      "source": [
        "import warnings\n",
        "warnings.simplefilter(action='ignore', category=FutureWarning)\n",
        "import pandas as pd \n",
        "import numpy as np\n",
        "import matplotlib.pyplot as plt\n",
        "import seaborn as sns\n",
        "from pandas import DataFrame, Series "
      ],
      "execution_count": 77,
      "outputs": []
    },
    {
      "cell_type": "code",
      "metadata": {
        "colab": {
          "base_uri": "https://localhost:8080/",
          "height": 206
        },
        "id": "ah7oRqOl0Z1l",
        "outputId": "9c972d7c-ef73-4d13-9ecd-a65950becbbe"
      },
      "source": [
        "data_train=pd.read_csv('review_rating_train.csv')\n",
        "data_train.head()"
      ],
      "execution_count": 78,
      "outputs": [
        {
          "output_type": "execute_result",
          "data": {
            "text/html": [
              "\n",
              "  <div id=\"df-fcf54d38-1a34-48b3-b8f9-cd6c80ad0738\">\n",
              "    <div class=\"colab-df-container\">\n",
              "      <div>\n",
              "<style scoped>\n",
              "    .dataframe tbody tr th:only-of-type {\n",
              "        vertical-align: middle;\n",
              "    }\n",
              "\n",
              "    .dataframe tbody tr th {\n",
              "        vertical-align: top;\n",
              "    }\n",
              "\n",
              "    .dataframe thead th {\n",
              "        text-align: right;\n",
              "    }\n",
              "</style>\n",
              "<table border=\"1\" class=\"dataframe\">\n",
              "  <thead>\n",
              "    <tr style=\"text-align: right;\">\n",
              "      <th></th>\n",
              "      <th>review_text</th>\n",
              "      <th>review_rating</th>\n",
              "    </tr>\n",
              "  </thead>\n",
              "  <tbody>\n",
              "    <tr>\n",
              "      <th>0</th>\n",
              "      <td>penasaran ama iklannya &amp;amp; review org\" yg ka...</td>\n",
              "      <td>5</td>\n",
              "    </tr>\n",
              "    <tr>\n",
              "      <th>1</th>\n",
              "      <td>kandungan olivenya bagus banget di kulit, paka...</td>\n",
              "      <td>5</td>\n",
              "    </tr>\n",
              "    <tr>\n",
              "      <th>2</th>\n",
              "      <td>love this! beneran bantu nipisin spot kaya mis...</td>\n",
              "      <td>5</td>\n",
              "    </tr>\n",
              "    <tr>\n",
              "      <th>3</th>\n",
              "      <td>udah jatuh cinta bgt sama sebamed yg ini, sebe...</td>\n",
              "      <td>5</td>\n",
              "    </tr>\n",
              "    <tr>\n",
              "      <th>4</th>\n",
              "      <td>salah satu line dari paulas choice kesukaan sa...</td>\n",
              "      <td>5</td>\n",
              "    </tr>\n",
              "  </tbody>\n",
              "</table>\n",
              "</div>\n",
              "      <button class=\"colab-df-convert\" onclick=\"convertToInteractive('df-fcf54d38-1a34-48b3-b8f9-cd6c80ad0738')\"\n",
              "              title=\"Convert this dataframe to an interactive table.\"\n",
              "              style=\"display:none;\">\n",
              "        \n",
              "  <svg xmlns=\"http://www.w3.org/2000/svg\" height=\"24px\"viewBox=\"0 0 24 24\"\n",
              "       width=\"24px\">\n",
              "    <path d=\"M0 0h24v24H0V0z\" fill=\"none\"/>\n",
              "    <path d=\"M18.56 5.44l.94 2.06.94-2.06 2.06-.94-2.06-.94-.94-2.06-.94 2.06-2.06.94zm-11 1L8.5 8.5l.94-2.06 2.06-.94-2.06-.94L8.5 2.5l-.94 2.06-2.06.94zm10 10l.94 2.06.94-2.06 2.06-.94-2.06-.94-.94-2.06-.94 2.06-2.06.94z\"/><path d=\"M17.41 7.96l-1.37-1.37c-.4-.4-.92-.59-1.43-.59-.52 0-1.04.2-1.43.59L10.3 9.45l-7.72 7.72c-.78.78-.78 2.05 0 2.83L4 21.41c.39.39.9.59 1.41.59.51 0 1.02-.2 1.41-.59l7.78-7.78 2.81-2.81c.8-.78.8-2.07 0-2.86zM5.41 20L4 18.59l7.72-7.72 1.47 1.35L5.41 20z\"/>\n",
              "  </svg>\n",
              "      </button>\n",
              "      \n",
              "  <style>\n",
              "    .colab-df-container {\n",
              "      display:flex;\n",
              "      flex-wrap:wrap;\n",
              "      gap: 12px;\n",
              "    }\n",
              "\n",
              "    .colab-df-convert {\n",
              "      background-color: #E8F0FE;\n",
              "      border: none;\n",
              "      border-radius: 50%;\n",
              "      cursor: pointer;\n",
              "      display: none;\n",
              "      fill: #1967D2;\n",
              "      height: 32px;\n",
              "      padding: 0 0 0 0;\n",
              "      width: 32px;\n",
              "    }\n",
              "\n",
              "    .colab-df-convert:hover {\n",
              "      background-color: #E2EBFA;\n",
              "      box-shadow: 0px 1px 2px rgba(60, 64, 67, 0.3), 0px 1px 3px 1px rgba(60, 64, 67, 0.15);\n",
              "      fill: #174EA6;\n",
              "    }\n",
              "\n",
              "    [theme=dark] .colab-df-convert {\n",
              "      background-color: #3B4455;\n",
              "      fill: #D2E3FC;\n",
              "    }\n",
              "\n",
              "    [theme=dark] .colab-df-convert:hover {\n",
              "      background-color: #434B5C;\n",
              "      box-shadow: 0px 1px 3px 1px rgba(0, 0, 0, 0.15);\n",
              "      filter: drop-shadow(0px 1px 2px rgba(0, 0, 0, 0.3));\n",
              "      fill: #FFFFFF;\n",
              "    }\n",
              "  </style>\n",
              "\n",
              "      <script>\n",
              "        const buttonEl =\n",
              "          document.querySelector('#df-fcf54d38-1a34-48b3-b8f9-cd6c80ad0738 button.colab-df-convert');\n",
              "        buttonEl.style.display =\n",
              "          google.colab.kernel.accessAllowed ? 'block' : 'none';\n",
              "\n",
              "        async function convertToInteractive(key) {\n",
              "          const element = document.querySelector('#df-fcf54d38-1a34-48b3-b8f9-cd6c80ad0738');\n",
              "          const dataTable =\n",
              "            await google.colab.kernel.invokeFunction('convertToInteractive',\n",
              "                                                     [key], {});\n",
              "          if (!dataTable) return;\n",
              "\n",
              "          const docLinkHtml = 'Like what you see? Visit the ' +\n",
              "            '<a target=\"_blank\" href=https://colab.research.google.com/notebooks/data_table.ipynb>data table notebook</a>'\n",
              "            + ' to learn more about interactive tables.';\n",
              "          element.innerHTML = '';\n",
              "          dataTable['output_type'] = 'display_data';\n",
              "          await google.colab.output.renderOutput(dataTable, element);\n",
              "          const docLink = document.createElement('div');\n",
              "          docLink.innerHTML = docLinkHtml;\n",
              "          element.appendChild(docLink);\n",
              "        }\n",
              "      </script>\n",
              "    </div>\n",
              "  </div>\n",
              "  "
            ],
            "text/plain": [
              "                                         review_text  review_rating\n",
              "0  penasaran ama iklannya &amp; review org\" yg ka...              5\n",
              "1  kandungan olivenya bagus banget di kulit, paka...              5\n",
              "2  love this! beneran bantu nipisin spot kaya mis...              5\n",
              "3  udah jatuh cinta bgt sama sebamed yg ini, sebe...              5\n",
              "4  salah satu line dari paulas choice kesukaan sa...              5"
            ]
          },
          "metadata": {},
          "execution_count": 78
        }
      ]
    },
    {
      "cell_type": "code",
      "metadata": {
        "colab": {
          "base_uri": "https://localhost:8080/",
          "height": 206
        },
        "id": "AtQ6yZ0Yqf-v",
        "outputId": "6db3b343-4ba5-477c-d2d9-5e863975313e"
      },
      "source": [
        "data_test=pd.read_csv('review_rating.csv')\n",
        "data_test.head()"
      ],
      "execution_count": 79,
      "outputs": [
        {
          "output_type": "execute_result",
          "data": {
            "text/html": [
              "\n",
              "  <div id=\"df-d0456cf4-4603-44bf-a9d6-a52d22f26748\">\n",
              "    <div class=\"colab-df-container\">\n",
              "      <div>\n",
              "<style scoped>\n",
              "    .dataframe tbody tr th:only-of-type {\n",
              "        vertical-align: middle;\n",
              "    }\n",
              "\n",
              "    .dataframe tbody tr th {\n",
              "        vertical-align: top;\n",
              "    }\n",
              "\n",
              "    .dataframe thead th {\n",
              "        text-align: right;\n",
              "    }\n",
              "</style>\n",
              "<table border=\"1\" class=\"dataframe\">\n",
              "  <thead>\n",
              "    <tr style=\"text-align: right;\">\n",
              "      <th></th>\n",
              "      <th>review_text</th>\n",
              "      <th>review_rating</th>\n",
              "    </tr>\n",
              "  </thead>\n",
              "  <tbody>\n",
              "    <tr>\n",
              "      <th>0</th>\n",
              "      <td>ole flamingo shade kesukaanku! pink fuchsia de...</td>\n",
              "      <td>5</td>\n",
              "    </tr>\n",
              "    <tr>\n",
              "      <th>1</th>\n",
              "      <td>body lotion ber-spf pertamaku dulu, hehe. pake...</td>\n",
              "      <td>5</td>\n",
              "    </tr>\n",
              "    <tr>\n",
              "      <th>2</th>\n",
              "      <td>gw sk-2 addict dan gw dikenalkan produk kiehl'...</td>\n",
              "      <td>5</td>\n",
              "    </tr>\n",
              "    <tr>\n",
              "      <th>3</th>\n",
              "      <td>pertamanya sih aneh pas diolesin di bibir. kay...</td>\n",
              "      <td>5</td>\n",
              "    </tr>\n",
              "    <tr>\n",
              "      <th>4</th>\n",
              "      <td>salah satu facial wash favorit aku. aku pakai ...</td>\n",
              "      <td>5</td>\n",
              "    </tr>\n",
              "  </tbody>\n",
              "</table>\n",
              "</div>\n",
              "      <button class=\"colab-df-convert\" onclick=\"convertToInteractive('df-d0456cf4-4603-44bf-a9d6-a52d22f26748')\"\n",
              "              title=\"Convert this dataframe to an interactive table.\"\n",
              "              style=\"display:none;\">\n",
              "        \n",
              "  <svg xmlns=\"http://www.w3.org/2000/svg\" height=\"24px\"viewBox=\"0 0 24 24\"\n",
              "       width=\"24px\">\n",
              "    <path d=\"M0 0h24v24H0V0z\" fill=\"none\"/>\n",
              "    <path d=\"M18.56 5.44l.94 2.06.94-2.06 2.06-.94-2.06-.94-.94-2.06-.94 2.06-2.06.94zm-11 1L8.5 8.5l.94-2.06 2.06-.94-2.06-.94L8.5 2.5l-.94 2.06-2.06.94zm10 10l.94 2.06.94-2.06 2.06-.94-2.06-.94-.94-2.06-.94 2.06-2.06.94z\"/><path d=\"M17.41 7.96l-1.37-1.37c-.4-.4-.92-.59-1.43-.59-.52 0-1.04.2-1.43.59L10.3 9.45l-7.72 7.72c-.78.78-.78 2.05 0 2.83L4 21.41c.39.39.9.59 1.41.59.51 0 1.02-.2 1.41-.59l7.78-7.78 2.81-2.81c.8-.78.8-2.07 0-2.86zM5.41 20L4 18.59l7.72-7.72 1.47 1.35L5.41 20z\"/>\n",
              "  </svg>\n",
              "      </button>\n",
              "      \n",
              "  <style>\n",
              "    .colab-df-container {\n",
              "      display:flex;\n",
              "      flex-wrap:wrap;\n",
              "      gap: 12px;\n",
              "    }\n",
              "\n",
              "    .colab-df-convert {\n",
              "      background-color: #E8F0FE;\n",
              "      border: none;\n",
              "      border-radius: 50%;\n",
              "      cursor: pointer;\n",
              "      display: none;\n",
              "      fill: #1967D2;\n",
              "      height: 32px;\n",
              "      padding: 0 0 0 0;\n",
              "      width: 32px;\n",
              "    }\n",
              "\n",
              "    .colab-df-convert:hover {\n",
              "      background-color: #E2EBFA;\n",
              "      box-shadow: 0px 1px 2px rgba(60, 64, 67, 0.3), 0px 1px 3px 1px rgba(60, 64, 67, 0.15);\n",
              "      fill: #174EA6;\n",
              "    }\n",
              "\n",
              "    [theme=dark] .colab-df-convert {\n",
              "      background-color: #3B4455;\n",
              "      fill: #D2E3FC;\n",
              "    }\n",
              "\n",
              "    [theme=dark] .colab-df-convert:hover {\n",
              "      background-color: #434B5C;\n",
              "      box-shadow: 0px 1px 3px 1px rgba(0, 0, 0, 0.15);\n",
              "      filter: drop-shadow(0px 1px 2px rgba(0, 0, 0, 0.3));\n",
              "      fill: #FFFFFF;\n",
              "    }\n",
              "  </style>\n",
              "\n",
              "      <script>\n",
              "        const buttonEl =\n",
              "          document.querySelector('#df-d0456cf4-4603-44bf-a9d6-a52d22f26748 button.colab-df-convert');\n",
              "        buttonEl.style.display =\n",
              "          google.colab.kernel.accessAllowed ? 'block' : 'none';\n",
              "\n",
              "        async function convertToInteractive(key) {\n",
              "          const element = document.querySelector('#df-d0456cf4-4603-44bf-a9d6-a52d22f26748');\n",
              "          const dataTable =\n",
              "            await google.colab.kernel.invokeFunction('convertToInteractive',\n",
              "                                                     [key], {});\n",
              "          if (!dataTable) return;\n",
              "\n",
              "          const docLinkHtml = 'Like what you see? Visit the ' +\n",
              "            '<a target=\"_blank\" href=https://colab.research.google.com/notebooks/data_table.ipynb>data table notebook</a>'\n",
              "            + ' to learn more about interactive tables.';\n",
              "          element.innerHTML = '';\n",
              "          dataTable['output_type'] = 'display_data';\n",
              "          await google.colab.output.renderOutput(dataTable, element);\n",
              "          const docLink = document.createElement('div');\n",
              "          docLink.innerHTML = docLinkHtml;\n",
              "          element.appendChild(docLink);\n",
              "        }\n",
              "      </script>\n",
              "    </div>\n",
              "  </div>\n",
              "  "
            ],
            "text/plain": [
              "                                         review_text  review_rating\n",
              "0  ole flamingo shade kesukaanku! pink fuchsia de...              5\n",
              "1  body lotion ber-spf pertamaku dulu, hehe. pake...              5\n",
              "2  gw sk-2 addict dan gw dikenalkan produk kiehl'...              5\n",
              "3  pertamanya sih aneh pas diolesin di bibir. kay...              5\n",
              "4  salah satu facial wash favorit aku. aku pakai ...              5"
            ]
          },
          "metadata": {},
          "execution_count": 79
        }
      ]
    },
    {
      "cell_type": "code",
      "metadata": {
        "colab": {
          "base_uri": "https://localhost:8080/"
        },
        "id": "OFJua5jYjxyQ",
        "outputId": "485af7a7-5292-4074-d041-96273b517d2f"
      },
      "source": [
        "data_train.info()"
      ],
      "execution_count": 80,
      "outputs": [
        {
          "output_type": "stream",
          "name": "stdout",
          "text": [
            "<class 'pandas.core.frame.DataFrame'>\n",
            "RangeIndex: 10500 entries, 0 to 10499\n",
            "Data columns (total 2 columns):\n",
            " #   Column         Non-Null Count  Dtype \n",
            "---  ------         --------------  ----- \n",
            " 0   review_text    10500 non-null  object\n",
            " 1   review_rating  10500 non-null  int64 \n",
            "dtypes: int64(1), object(1)\n",
            "memory usage: 164.2+ KB\n"
          ]
        }
      ]
    },
    {
      "cell_type": "code",
      "metadata": {
        "colab": {
          "base_uri": "https://localhost:8080/"
        },
        "id": "R6bqwDvM2vAx",
        "outputId": "ff77bac8-b80a-4d22-f13f-ee1169d4577e"
      },
      "source": [
        "data_test.info()"
      ],
      "execution_count": 81,
      "outputs": [
        {
          "output_type": "stream",
          "name": "stdout",
          "text": [
            "<class 'pandas.core.frame.DataFrame'>\n",
            "RangeIndex: 4500 entries, 0 to 4499\n",
            "Data columns (total 2 columns):\n",
            " #   Column         Non-Null Count  Dtype \n",
            "---  ------         --------------  ----- \n",
            " 0   review_text    4500 non-null   object\n",
            " 1   review_rating  4500 non-null   int64 \n",
            "dtypes: int64(1), object(1)\n",
            "memory usage: 70.4+ KB\n"
          ]
        }
      ]
    },
    {
      "cell_type": "code",
      "metadata": {
        "colab": {
          "base_uri": "https://localhost:8080/"
        },
        "id": "BzG_OIbFjwlo",
        "outputId": "65ae8c18-3be6-4db0-b868-e3b84952723d"
      },
      "source": [
        "data_train.review_rating.value_counts()"
      ],
      "execution_count": 82,
      "outputs": [
        {
          "output_type": "execute_result",
          "data": {
            "text/plain": [
              "4    3780\n",
              "5    3570\n",
              "3    1890\n",
              "2     945\n",
              "1     315\n",
              "Name: review_rating, dtype: int64"
            ]
          },
          "metadata": {},
          "execution_count": 82
        }
      ]
    },
    {
      "cell_type": "code",
      "metadata": {
        "colab": {
          "base_uri": "https://localhost:8080/"
        },
        "id": "Fx9MBhDe1Q5X",
        "outputId": "6ac10f9a-aeeb-4f14-851a-020008f7ae3c"
      },
      "source": [
        "data_test.review_rating.value_counts()"
      ],
      "execution_count": 83,
      "outputs": [
        {
          "output_type": "execute_result",
          "data": {
            "text/plain": [
              "4    1620\n",
              "5    1530\n",
              "3     810\n",
              "2     405\n",
              "1     135\n",
              "Name: review_rating, dtype: int64"
            ]
          },
          "metadata": {},
          "execution_count": 83
        }
      ]
    },
    {
      "cell_type": "markdown",
      "metadata": {
        "id": "gNJOFbSht2Zc"
      },
      "source": [
        "### Proses Klasifikasi tanpa Normalisasi Teks"
      ]
    },
    {
      "cell_type": "code",
      "metadata": {
        "id": "WYukzeztStPv"
      },
      "source": [
        "x_train,y_train=data_train['review_text'],data_train['review_rating']\n",
        "x_test,y_test=data_test['review_text'],data_test['review_rating']"
      ],
      "execution_count": 84,
      "outputs": []
    },
    {
      "cell_type": "code",
      "metadata": {
        "id": "vVQr0uHOrY_Y"
      },
      "source": [
        "from sklearn.feature_extraction.text import CountVectorizer\n",
        "\n",
        "cv=CountVectorizer()\n",
        "count=cv.fit_transform(x_train)\n",
        "#count1=pd.DataFrame(count.toarray(),columns=cv.get_feature_names())\n",
        "#count1.T.sort_values(by=0, ascending=False).head(10)"
      ],
      "execution_count": 85,
      "outputs": []
    },
    {
      "cell_type": "code",
      "metadata": {
        "id": "M0elfq1IUhtP"
      },
      "source": [
        "count_test = cv.transform(x_test)"
      ],
      "execution_count": 86,
      "outputs": []
    },
    {
      "cell_type": "code",
      "metadata": {
        "id": "lNuErIizletZ",
        "colab": {
          "base_uri": "https://localhost:8080/"
        },
        "outputId": "5bd633fd-4d27-4100-f711-9df4c88ae166"
      },
      "source": [
        "from sklearn.naive_bayes import MultinomialNB\n",
        "from sklearn import metrics\n",
        "\n",
        "mnb=MultinomialNB().fit(count,y_train)\n",
        "datatest=mnb.predict(count_test)\n",
        "print(\"Akurasi : \",metrics.accuracy_score(y_test,datatest)*100)"
      ],
      "execution_count": 87,
      "outputs": [
        {
          "output_type": "stream",
          "name": "stdout",
          "text": [
            "Akurasi :  47.68888888888888\n"
          ]
        }
      ]
    },
    {
      "cell_type": "markdown",
      "metadata": {
        "id": "XmnwggS_t2Zg"
      },
      "source": [
        "### Proses Klasifikasi dengan Normalisasi Teks"
      ]
    },
    {
      "cell_type": "code",
      "metadata": {
        "colab": {
          "base_uri": "https://localhost:8080/"
        },
        "id": "p4BrYt8ANMQb",
        "outputId": "2b6cbd96-68ab-463a-c4e0-4a81f2aef657"
      },
      "source": [
        "!pip install Sastrawi"
      ],
      "execution_count": 88,
      "outputs": [
        {
          "output_type": "stream",
          "name": "stdout",
          "text": [
            "Requirement already satisfied: Sastrawi in /usr/local/lib/python3.7/dist-packages (1.0.1)\n"
          ]
        }
      ]
    },
    {
      "cell_type": "code",
      "metadata": {
        "id": "wXmzZa1jt2Zh",
        "cellView": "code"
      },
      "source": [
        "import string,csv,re\n",
        "from Sastrawi.StopWordRemover.StopWordRemoverFactory import StopWordRemoverFactory\n",
        "from nltk.tokenize import word_tokenize\n",
        "\n",
        "#data train\n",
        "data_train.head()\n",
        "data_train['review_text']=data_train['review_text'].str.lower()\n",
        "data_train['review_text']=data_train['review_text'].str.replace('(https?://[\\w\\.\\/]*)', '')\n",
        "data_train['review_text']=data_train['review_text'].str.replace('(?:&(?:lt|nbsp|amp|gt);)', '')\n",
        "data_train['review_text']=data_train['review_text'].str.replace('[^A-Za-z0-9\\s\\-\\/]', '')\n",
        "data_train['review_text']=data_train['review_text'].str.replace('[0-9]', '')\n",
        "data_train['review_text']=data_train['review_text'].str.replace('\\n', ' ')\n",
        "data_train['review_text']=data_train['review_text'].str.replace('\\s{2,}', ' ')\n",
        "data_train.dropna(subset=['review_text'], inplace=True)\n",
        "data_train=data_train.drop_duplicates(['review_text'])\n",
        "\n",
        "#data test\n",
        "data_test.head()\n",
        "data_test['review_text']=data_test['review_text'].str.lower()\n",
        "data_test['review_text']=data_test['review_text'].str.replace('(https?://[\\w\\.\\/]*)', '')\n",
        "data_test['review_text']=data_test['review_text'].str.replace('(?:&(?:lt|nbsp|amp|gt);)', '')\n",
        "data_test['review_text']=data_test['review_text'].str.replace('[^A-Za-z0-9\\s\\-\\/]', '')\n",
        "data_test['review_text']=data_test['review_text'].str.replace('[0-9]', '')\n",
        "data_test['review_text']=data_test['review_text'].str.replace('\\n', ' ')\n",
        "data_test['review_text']=data_test['review_text'].str.replace('\\s{2,}', ' ')\n",
        "data_test.dropna(subset=['review_text'], inplace=True)\n",
        "data_test=data_test.drop_duplicates(['review_text'])\n",
        "\n",
        "factory = StopWordRemoverFactory()\n",
        "stopwords_id = factory.get_stop_words()\n",
        "\n",
        "def delete_stopwords(document):\n",
        "    stopwords_remover = [text for text in document.split() if text not in stopwords_id]\n",
        "    stopwords_remover_join = ' '.join(stopwords_remover)\n",
        "\n",
        "    return stopwords_remover_join\n",
        "\n",
        "data_train['review_text']=data_train['review_text'].apply(delete_stopwords)\n",
        "data_test['review_text']=data_test['review_text'].apply(delete_stopwords)\n",
        "\n",
        "def translate(user_string):\n",
        "    user_string=user_string.split(\" \")\n",
        "    j = 0\n",
        "    for _str in user_string:\n",
        "        filename = \"Slang1.csv\"\n",
        "        #print('_str = ',_str)\n",
        "        with open(filename, \"r\") as myCSVfile:\n",
        "            dataFromFile = csv.reader(myCSVfile, delimiter=\",\")\n",
        "            for row in dataFromFile:\n",
        "                #print('row 0 =',row[0])\n",
        "                if _str.lower() == row[0].lower():\n",
        "                    #print('ada kata yang perlu dinormalisasi:',_str.lower(),'diubah menjadi:',row[1])\n",
        "                    user_string[j] = row[1]\n",
        "                    #print('hasil perubahan =',user_string[j])\n",
        "                #else:\n",
        "                    #print('tidak sama, _str ='+_str+', row [0]=',row[0])\n",
        "            myCSVfile.close()\n",
        "        j = j + 1\n",
        "    return ' '.join(user_string)\n",
        "#print('review text sebelum normalisasi:')\n",
        "#print(data['review_text'])\n",
        "data_train['review_text'] = data_train['review_text'].apply(lambda x: translate(x)  )\n",
        "data_test['review_text'] = data_test['review_text'].apply(lambda x: translate(x)  )\n",
        "#data['review_text'].to_csv('test.csv')\n",
        "#print('review text sesudah normalisasi:')\n",
        "#print(data['review_text'])\n",
        "\n",
        "token_train=data_train['review_text'].apply(word_tokenize)\n",
        "token_test=data_test['review_text'].apply(word_tokenize)"
      ],
      "execution_count": 89,
      "outputs": []
    },
    {
      "cell_type": "code",
      "metadata": {
        "id": "bfsHamgnt2Zm"
      },
      "source": [
        "x_train,y_train=data_train['review_text'],data_train['review_rating']\n",
        "x_test,y_test=data_test['review_text'],data_test['review_rating']"
      ],
      "execution_count": 90,
      "outputs": []
    },
    {
      "cell_type": "code",
      "metadata": {
        "id": "HBwAUos7t2Zl"
      },
      "source": [
        "from sklearn.feature_extraction.text import CountVectorizer\n",
        "\n",
        "cv=CountVectorizer()\n",
        "count=cv.fit_transform(x_train)"
      ],
      "execution_count": 91,
      "outputs": []
    },
    {
      "cell_type": "code",
      "metadata": {
        "id": "78GAnwV7M1Xu"
      },
      "source": [
        "count_test = cv.transform(x_test)"
      ],
      "execution_count": 92,
      "outputs": []
    },
    {
      "cell_type": "code",
      "metadata": {
        "id": "PqIJDreot2Zn",
        "colab": {
          "base_uri": "https://localhost:8080/"
        },
        "outputId": "73cac3fb-339f-473e-ea68-4daa73e79884"
      },
      "source": [
        "from sklearn.naive_bayes import MultinomialNB\n",
        "from sklearn import metrics\n",
        "\n",
        "mnb=MultinomialNB().fit(count,y_train)\n",
        "datatest=mnb.predict(count_test)\n",
        "print(\"Akurasi : \",metrics.accuracy_score(y_test,datatest)*100)"
      ],
      "execution_count": 93,
      "outputs": [
        {
          "output_type": "stream",
          "name": "stdout",
          "text": [
            "Akurasi :  47.03522068658047\n"
          ]
        }
      ]
    },
    {
      "cell_type": "code",
      "metadata": {
        "id": "pmeq1USdU7RN"
      },
      "source": [
        "dataset_baru = pd.DataFrame({'review_text': x_test,\n",
        "                             'review_rating': datatest})"
      ],
      "execution_count": 94,
      "outputs": []
    },
    {
      "cell_type": "code",
      "metadata": {
        "id": "P9w5f2-FVT3l"
      },
      "source": [
        "# Memisahkan dataset berdasarkan ratingnya\n",
        "\n",
        "data1 = dataset_baru[dataset_baru['review_rating'] == 1]\n",
        "data2 = dataset_baru[dataset_baru['review_rating'] == 2]\n",
        "data3 = dataset_baru[dataset_baru['review_rating'] == 3]\n",
        "data4 = dataset_baru[dataset_baru['review_rating'] == 4]\n",
        "data5 = dataset_baru[dataset_baru['review_rating'] == 5]"
      ],
      "execution_count": 95,
      "outputs": []
    },
    {
      "cell_type": "code",
      "metadata": {
        "id": "4qIJd7KgVdyG"
      },
      "source": [
        "# Mengubah dataframe ke file csv\n",
        "\n",
        "Combined_Test = [data5,data4,data3,data2,data1]\n",
        "Together_Test = pd.concat(Combined_Test)\n",
        "\n",
        "Together_Test.to_csv('review_rating_norm.csv')"
      ],
      "execution_count": 96,
      "outputs": []
    },
    {
      "cell_type": "code",
      "metadata": {
        "id": "k5hEr7S2LVBw"
      },
      "source": [
        "dataset_baru1 = pd.DataFrame({'review_text': x_train,\n",
        "                             'review_rating': y_train})"
      ],
      "execution_count": 97,
      "outputs": []
    },
    {
      "cell_type": "code",
      "metadata": {
        "id": "YwcbMcNuMXkY"
      },
      "source": [
        "# Memisahkan dataset berdasarkan ratingnya\n",
        "\n",
        "data1_1 = dataset_baru1[dataset_baru1['review_rating'] == 1]\n",
        "data1_2 = dataset_baru1[dataset_baru1['review_rating'] == 2]\n",
        "data1_3 = dataset_baru1[dataset_baru1['review_rating'] == 3]\n",
        "data1_4 = dataset_baru1[dataset_baru1['review_rating'] == 4]\n",
        "data1_5 = dataset_baru1[dataset_baru1['review_rating'] == 5]"
      ],
      "execution_count": 98,
      "outputs": []
    },
    {
      "cell_type": "code",
      "metadata": {
        "id": "I3gRJ7DAOJP7"
      },
      "source": [
        "# Mengubah dataframe ke file csv\n",
        "\n",
        "Combined_Train=[data1_5,data1_4,data1_3,data1_2,data1_1]\n",
        "Together_Train=pd.concat(Combined_Train)\n",
        "\n",
        "Together_Train.to_csv('review_rating_train_norm.csv')"
      ],
      "execution_count": 99,
      "outputs": []
    },
    {
      "cell_type": "code",
      "source": [
        "#Combined=[data1_5,data5,data1_4,data4,data1_3,data3,data1_2,data2,data1_1,data1]\n",
        "#Together=pd.concat(Combined)\n",
        "#Together.to_csv('review_rating_all_norm.csv',index=False)"
      ],
      "metadata": {
        "id": "YqjUQ9IoJ532"
      },
      "execution_count": 100,
      "outputs": []
    }
  ]
}