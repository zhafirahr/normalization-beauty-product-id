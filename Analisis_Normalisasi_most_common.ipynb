{
  "nbformat": 4,
  "nbformat_minor": 0,
  "metadata": {
    "colab": {
      "name": "Analisis Normalisasi_most common.ipynb",
      "provenance": [],
      "collapsed_sections": []
    },
    "kernelspec": {
      "name": "python3",
      "display_name": "Python 3"
    },
    "language_info": {
      "name": "python"
    }
  },
  "cells": [
    {
      "cell_type": "code",
      "metadata": {
        "id": "W-2esB20jNTz"
      },
      "source": [
        "import pandas as pd\n",
        "import nltk\n",
        "import matplotlib.pyplot as plt\n",
        "import seaborn as sns\n",
        "import itertools\n",
        "import collections"
      ],
      "execution_count": 1,
      "outputs": []
    },
    {
      "cell_type": "code",
      "metadata": {
        "id": "SIE0My3FjQ1Z",
        "colab": {
          "base_uri": "https://localhost:8080/"
        },
        "outputId": "a6dd6ce4-8328-45ab-cf65-234a75ff8697"
      },
      "source": [
        "stop_words = ['di','yang','dan','yg','ini','dari','untuk','ke','akan','itu','dengan','oleh','karena','the','pada','nya','dalam','telah',':','atau','ada','adalah','tersebut','?','-']\n",
        "data = pd.read_csv('review_rating_all.csv')\n",
        "print(data.head())"
      ],
      "execution_count": 2,
      "outputs": [
        {
          "output_type": "stream",
          "name": "stdout",
          "text": [
            "                                         review_text  review_rating\n",
            "0  penasaran ama iklannya &amp; review org\" yg ka...              5\n",
            "1  kandungan olivenya bagus banget di kulit, paka...              5\n",
            "2  love this! beneran bantu nipisin spot kaya mis...              5\n",
            "3  udah jatuh cinta bgt sama sebamed yg ini, sebe...              5\n",
            "4  salah satu line dari paulas choice kesukaan sa...              5\n"
          ]
        }
      ]
    },
    {
      "cell_type": "code",
      "metadata": {
        "id": "Gth7Qto1GTik",
        "colab": {
          "base_uri": "https://localhost:8080/"
        },
        "outputId": "5abd1ab2-19b5-494b-a7e4-8c50ff5d67a8"
      },
      "source": [
        "data_review1 = data.loc[data['review_rating'] == 5]\n",
        "print(data.loc[data['review_rating'] == 5])\n",
        "data_review_text1 = data_review1[['review_text']]\n",
        "print('List Review')\n",
        "print(data_review_text1.head(5))"
      ],
      "execution_count": 3,
      "outputs": [
        {
          "output_type": "stream",
          "name": "stdout",
          "text": [
            "                                            review_text  review_rating\n",
            "0     penasaran ama iklannya &amp; review org\" yg ka...              5\n",
            "1     kandungan olivenya bagus banget di kulit, paka...              5\n",
            "2     love this! beneran bantu nipisin spot kaya mis...              5\n",
            "3     udah jatuh cinta bgt sama sebamed yg ini, sebe...              5\n",
            "4     salah satu line dari paulas choice kesukaan sa...              5\n",
            "...                                                 ...            ...\n",
            "5095  formulanya ringan banget, kayak ga pake apa-ap...              5\n",
            "5096  suka sekali shade bare ini walau agak sheer ga...              5\n",
            "5097  ini nih, product sunscreen andalan dan holy gr...              5\n",
            "5098  puueerrfffeeccctttt, pantesan pada cinta sama ...              5\n",
            "5099  kesan pertama pake ini: wow banget! kulit lang...              5\n",
            "\n",
            "[5100 rows x 2 columns]\n",
            "List Review\n",
            "                                         review_text\n",
            "0  penasaran ama iklannya &amp; review org\" yg ka...\n",
            "1  kandungan olivenya bagus banget di kulit, paka...\n",
            "2  love this! beneran bantu nipisin spot kaya mis...\n",
            "3  udah jatuh cinta bgt sama sebamed yg ini, sebe...\n",
            "4  salah satu line dari paulas choice kesukaan sa...\n"
          ]
        }
      ]
    },
    {
      "cell_type": "code",
      "metadata": {
        "id": "_nI5fv5cGgxZ",
        "colab": {
          "base_uri": "https://localhost:8080/"
        },
        "outputId": "c244464c-5c6c-4fa6-c5a2-65d8f82e4f1e"
      },
      "source": [
        "data_review2 = data.loc[data['review_rating'] == 4]\n",
        "print(data.loc[data['review_rating'] == 4])\n",
        "data_review_text2 = data_review2[['review_text']]\n",
        "print('List Review')\n",
        "print(data_review_text2.head(5))"
      ],
      "execution_count": 4,
      "outputs": [
        {
          "output_type": "stream",
          "name": "stdout",
          "text": [
            "                                             review_text  review_rating\n",
            "5100   meski murah tapi bb cream ini ga kalah ama bb ...              4\n",
            "5101   beli ini karena ravenya kenceng banget. saking...              4\n",
            "5102   masker ini bisa dibilang masker drugstore fav ...              4\n",
            "5103   ini peoduct oriflame pertama yg saya pakai. ta...              4\n",
            "5104   gara2 heboh di ig langsung ikutan beli. cewe b...              4\n",
            "...                                                  ...            ...\n",
            "10495  nyoba ini gara gara sempet frustasi sama muka ...              4\n",
            "10496  sblmnya rada ga percaya si sama review2 yg kyk...              4\n",
            "10497  tekturnya rich tetapi meresap cepat di kulit d...              4\n",
            "10498  i have no option except to repurchase because ...              4\n",
            "10499  baunya agak kimia gitu di aku. daya membersihk...              4\n",
            "\n",
            "[5400 rows x 2 columns]\n",
            "List Review\n",
            "                                            review_text\n",
            "5100  meski murah tapi bb cream ini ga kalah ama bb ...\n",
            "5101  beli ini karena ravenya kenceng banget. saking...\n",
            "5102  masker ini bisa dibilang masker drugstore fav ...\n",
            "5103  ini peoduct oriflame pertama yg saya pakai. ta...\n",
            "5104  gara2 heboh di ig langsung ikutan beli. cewe b...\n"
          ]
        }
      ]
    },
    {
      "cell_type": "code",
      "metadata": {
        "id": "zxkirk1DQK2V",
        "colab": {
          "base_uri": "https://localhost:8080/"
        },
        "outputId": "e5a07fad-4fe0-40ff-a9d2-6466ec8547d2"
      },
      "source": [
        "data_review3 = data.loc[data['review_rating'] == 3]\n",
        "print(data.loc[data['review_rating'] == 3])\n",
        "data_review_text3 = data_review3[['review_text']]\n",
        "print('List Review')\n",
        "print(data_review_text3.head(5))"
      ],
      "execution_count": 5,
      "outputs": [
        {
          "output_type": "stream",
          "name": "stdout",
          "text": [
            "                                             review_text  review_rating\n",
            "10500  - baru cobain dan hasilnya oke selama kondisi ...              3\n",
            "10501  teksturnya bukan gel tp lotion. saat di apply ...              3\n",
            "10502  tertarik beli ini karena warnanya oke di bibir...              3\n",
            "10503  biasanya sunblock \\\\\\\\/ sunscreen identik deng...              3\n",
            "10504  biasa banget, nothing special. tidak terasa se...              3\n",
            "...                                                  ...            ...\n",
            "13195  toner wardah ini enak banget di kulit wajahku....              3\n",
            "13196  cleanser ini cukup bagus sih , harganya murah ...              3\n",
            "13197  pake ini seminggu sekali buat menghilangkan ko...              3\n",
            "13198  lipscrub ini bagus buat bibir yang pecah-pecah...              3\n",
            "13199  saya pakai ini untuk melengkapi rangkaian basi...              3\n",
            "\n",
            "[2700 rows x 2 columns]\n",
            "List Review\n",
            "                                             review_text\n",
            "10500  - baru cobain dan hasilnya oke selama kondisi ...\n",
            "10501  teksturnya bukan gel tp lotion. saat di apply ...\n",
            "10502  tertarik beli ini karena warnanya oke di bibir...\n",
            "10503  biasanya sunblock \\\\\\\\/ sunscreen identik deng...\n",
            "10504  biasa banget, nothing special. tidak terasa se...\n"
          ]
        }
      ]
    },
    {
      "cell_type": "code",
      "metadata": {
        "id": "lEUZxu8RQV6J",
        "colab": {
          "base_uri": "https://localhost:8080/"
        },
        "outputId": "50f57beb-c38a-49b4-892c-7de895f61bac"
      },
      "source": [
        "data_review4 = data.loc[data['review_rating'] == 2]\n",
        "print(data.loc[data['review_rating'] == 2])\n",
        "data_review_text4 = data_review4[['review_text']]\n",
        "print('List Review')\n",
        "print(data_review_text4.head(5))"
      ],
      "execution_count": 6,
      "outputs": [
        {
          "output_type": "stream",
          "name": "stdout",
          "text": [
            "                                             review_text  review_rating\n",
            "13200  buat bersihin muka dr makeup (non oke bgt. ngg...              2\n",
            "13201  aku pake pembersih ini ga cocok, muka jadi ter...              2\n",
            "13202  viva peeling cream ini ngga cocok kalo aku pak...              2\n",
            "13203  coverage nya bagus, spf nya pun tinggi. sayang...              2\n",
            "13204  resep cantik nenek dari jaman dahulu kala lol....              2\n",
            "...                                                  ...            ...\n",
            "14545  gua awalnya berharap banyak dari produk ini wa...              2\n",
            "14546  ini review aku tentang bbc ini: + harga murah ...              2\n",
            "14547  shade warna deep brown reddish,  warna tahun 9...              2\n",
            "14548  aku tertarik beli incredibalm ini karena deskr...              2\n",
            "14549  beli ini dengan harapan jerawat kecil - kecil ...              2\n",
            "\n",
            "[1350 rows x 2 columns]\n",
            "List Review\n",
            "                                             review_text\n",
            "13200  buat bersihin muka dr makeup (non oke bgt. ngg...\n",
            "13201  aku pake pembersih ini ga cocok, muka jadi ter...\n",
            "13202  viva peeling cream ini ngga cocok kalo aku pak...\n",
            "13203  coverage nya bagus, spf nya pun tinggi. sayang...\n",
            "13204  resep cantik nenek dari jaman dahulu kala lol....\n"
          ]
        }
      ]
    },
    {
      "cell_type": "code",
      "metadata": {
        "id": "Z8TL_IxWQZbh",
        "colab": {
          "base_uri": "https://localhost:8080/"
        },
        "outputId": "561c8e96-c3da-4116-f7aa-973f03a71ea3"
      },
      "source": [
        "data_review5 = data.loc[data['review_rating'] == 1]\n",
        "print(data.loc[data['review_rating'] == 1])\n",
        "data_review_text5 = data_review5[['review_text']]\n",
        "print('List Review')\n",
        "print(data_review_text5.head(5))"
      ],
      "execution_count": 7,
      "outputs": [
        {
          "output_type": "stream",
          "name": "stdout",
          "text": [
            "                                             review_text  review_rating\n",
            "14550  aku suka packagingnya chubby stick yang ditwis...              1\n",
            "14551  nice packaging, 2 in 1 mask scrub sayangnya bu...              1\n",
            "14552  gw pertama kali punya bbc ya produk ini. dibel...              1\n",
            "14553  belinya iseng pas ke guardian. dan hmmmmm.... ...              1\n",
            "14554  ini amit-amit banget. maaf ya yang suka sama p...              1\n",
            "...                                                  ...            ...\n",
            "14995  so..sopernah pakai ini pas masih kuliah. bentu...              1\n",
            "14996  i can't stand the lemon scent on it. kirain ba...              1\n",
            "14997  + affordable + wangiknya nyegerin + praktis ga...              1\n",
            "14998  sampai sekarang belum pernah nemu sunscreen ya...              1\n",
            "14999  i'm so sorry for this product :( aku bener2 ng...              1\n",
            "\n",
            "[450 rows x 2 columns]\n",
            "List Review\n",
            "                                             review_text\n",
            "14550  aku suka packagingnya chubby stick yang ditwis...\n",
            "14551  nice packaging, 2 in 1 mask scrub sayangnya bu...\n",
            "14552  gw pertama kali punya bbc ya produk ini. dibel...\n",
            "14553  belinya iseng pas ke guardian. dan hmmmmm.... ...\n",
            "14554  ini amit-amit banget. maaf ya yang suka sama p...\n"
          ]
        }
      ]
    },
    {
      "cell_type": "code",
      "metadata": {
        "id": "Q3fMDibRG3Ia",
        "colab": {
          "base_uri": "https://localhost:8080/"
        },
        "outputId": "7c9d649d-2022-414b-f8ba-e2bf258c32de"
      },
      "source": [
        "# Most Common Word di review rating 5\n",
        "list_review1 = []\n",
        "for row in data_review1['review_text']: \n",
        "    list_review1.append(row)    \n",
        "words_in_list_review1 = [text.lower().split() for text in list_review1]\n",
        "all_words_review1 = list(itertools.chain(*words_in_list_review1))\n",
        "res = [i for i in all_words_review1  if i not in stop_words]\n",
        "counts_review1 = collections.Counter(res)\n",
        "print('Most common word di review rating 5')\n",
        "print(counts_review1.most_common(20))\n",
        "\n",
        "# Most Common Word di review rating 4\n",
        "list_review2 = [] \n",
        "for row in data_review2['review_text']: \n",
        "    list_review2.append(row)    \n",
        "words_in_list_review2 = [text.lower().split() for text in list_review2]\n",
        "all_words_review2 = list(itertools.chain(*words_in_list_review2))\n",
        "res = [i for i in all_words_review2  if i not in stop_words]\n",
        "counts_review2 = collections.Counter(res)\n",
        "print('Most common word di review rating 4')\n",
        "print(counts_review2.most_common(20))\n",
        "\n",
        "# Most Common Word di review rating 3\n",
        "list_review3 = [] \n",
        "for row in data_review1['review_text']: \n",
        "    list_review3.append(row)    \n",
        "words_in_list_review3 = [text.lower().split() for text in list_review3]\n",
        "all_words_review3 = list(itertools.chain(*words_in_list_review3))\n",
        "res = [i for i in all_words_review3  if i not in stop_words]\n",
        "counts_review3 = collections.Counter(res)\n",
        "print('Most common word di review rating 3')\n",
        "print(counts_review3.most_common(20))\n",
        "\n",
        "# Most Common Word di review rating 2\n",
        "list_review4 = []\n",
        "# For each row \n",
        "for row in data_review4['review_text']:\n",
        "    # Add 1 to the row and append it \n",
        "    list_review4.append(row)    \n",
        "words_in_list_review4 = [text.lower().split() for text in list_review4]\n",
        "#print(words_in_list_review1[:5])\n",
        "all_words_review4 = list(itertools.chain(*words_in_list_review4))\n",
        "res = [i for i in all_words_review4 if i not in stop_words]\n",
        "# Create counter\n",
        "counts_review4 = collections.Counter(res)\n",
        "print('Most common word di review rating 2')\n",
        "print(counts_review4.most_common(20))\n",
        "\n",
        "# Most Common Word di review rating 1\n",
        "list_review5 = []\n",
        "# For each row \n",
        "for row in data_review5['review_text']:\n",
        "    # Add 1 to the row and append it \n",
        "    list_review5.append(row)    \n",
        "words_in_list_review5 = [text.lower().split() for text in list_review5]\n",
        "#print(words_in_list_review1[:5])\n",
        "all_words_review5 = list(itertools.chain(*words_in_list_review5))\n",
        "res = [i for i in all_words_review5  if i not in stop_words]\n",
        "# Create counter\n",
        "counts_review5 = collections.Counter(res)\n",
        "print('Most common word di review rating 1')\n",
        "print(counts_review5.most_common(20))"
      ],
      "execution_count": 8,
      "outputs": [
        {
          "output_type": "stream",
          "name": "stdout",
          "text": [
            "Most common word di review rating 5\n",
            "[('aku', 5791), ('banget', 3458), ('jadi', 3371), ('kulit', 3198), ('pake', 3179), ('ga', 3110), ('tapi', 3058), ('juga', 2613), ('bikin', 2479), ('pakai', 2460), ('sama', 2132), ('lebih', 2102), ('produk', 2007), ('suka', 1956), ('saya', 1949), ('buat', 1922), ('gak', 1919), ('muka', 1830), ('bisa', 1714), ('setelah', 1596)]\n",
            "Most common word di review rating 4\n",
            "[('aku', 4469), ('jadi', 3439), ('tapi', 3263), ('kulit', 3139), ('ga', 2942), ('pake', 2566), ('banget', 2347), ('bikin', 2272), ('juga', 2270), ('lebih', 2239), ('pakai', 2131), ('suka', 1851), ('buat', 1780), ('saya', 1757), ('produk', 1626), ('bisa', 1578), ('sama', 1568), ('kalo', 1499), ('gak', 1496), ('setelah', 1434)]\n",
            "Most common word di review rating 3\n",
            "[('aku', 5791), ('banget', 3458), ('jadi', 3371), ('kulit', 3198), ('pake', 3179), ('ga', 3110), ('tapi', 3058), ('juga', 2613), ('bikin', 2479), ('pakai', 2460), ('sama', 2132), ('lebih', 2102), ('produk', 2007), ('suka', 1956), ('saya', 1949), ('buat', 1922), ('gak', 1919), ('muka', 1830), ('bisa', 1714), ('setelah', 1596)]\n",
            "Most common word di review rating 2\n",
            "[('aku', 1152), ('ga', 891), ('jadi', 873), ('tapi', 788), ('kulit', 712), ('pake', 562), ('bikin', 536), ('produk', 496), ('gak', 484), ('juga', 458), ('pakai', 446), ('saya', 420), ('setelah', 420), ('sama', 417), ('banget', 405), ('beli', 403), ('cocok', 392), ('muka', 389), ('lebih', 372), ('suka', 351)]\n",
            "Most common word di review rating 1\n",
            "[('aku', 452), ('ga', 287), ('jadi', 259), ('gak', 240), ('kulit', 231), ('pake', 225), ('tapi', 222), ('produk', 207), ('sama', 201), ('bikin', 197), ('banget', 184), ('muka', 160), ('cocok', 159), ('juga', 153), ('pakai', 133), ('beli', 131), ('buat', 124), ('saya', 120), ('pas', 107), ('setelah', 106)]\n"
          ]
        }
      ]
    }
  ]
}